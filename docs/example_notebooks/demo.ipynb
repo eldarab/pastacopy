{
 "cells": [
  {
   "cell_type": "markdown",
   "id": "fd52525d",
   "metadata": {},
   "source": [
    "# Demo"
   ]
  },
  {
   "cell_type": "markdown",
   "id": "65c7f054",
   "metadata": {},
   "source": [
    "## 1) Copy an image to your clipboard"
   ]
  },
  {
   "cell_type": "markdown",
   "id": "48c672c7",
   "metadata": {},
   "source": [
    "## 2) Convert it to markdown bytes"
   ]
  },
  {
   "cell_type": "code",
   "execution_count": null,
   "id": "6ae42a29",
   "metadata": {},
   "outputs": [
    {
     "ename": "",
     "evalue": "",
     "output_type": "error",
     "traceback": [
      "\u001b[1;31mRunning cells with '.conda (Python 3.12.11)' requires the ipykernel package.\n",
      "\u001b[1;31mInstall 'ipykernel' into the Python environment. \n",
      "\u001b[1;31mCommand: 'conda install -n .conda ipykernel --update-deps --force-reinstall'"
     ]
    }
   ],
   "source": [
    "from pastacopy import clipboard_to_markdown"
   ]
  }
 ],
 "metadata": {
  "kernelspec": {
   "display_name": ".conda",
   "language": "python",
   "name": "python3"
  },
  "language_info": {
   "name": "python",
   "version": "3.12.11"
  }
 },
 "nbformat": 4,
 "nbformat_minor": 5
}
